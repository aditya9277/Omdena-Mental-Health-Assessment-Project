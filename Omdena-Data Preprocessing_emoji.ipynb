{
 "cells": [
  {
   "cell_type": "code",
   "execution_count": 1,
   "metadata": {
    "ExecuteTime": {
     "end_time": "2024-03-07T11:14:25.950075Z",
     "start_time": "2024-03-07T11:14:25.532958Z"
    }
   },
   "outputs": [],
   "source": [
    "import langid\n",
    "import pandas as pd\n",
    "import re\n",
    "import emoji\n",
    "from emot.emo_unicode import EMOTICONS_EMO"
   ]
  },
  {
   "cell_type": "code",
   "execution_count": 23,
   "metadata": {
    "ExecuteTime": {
     "end_time": "2024-03-07T11:18:56.419338Z",
     "start_time": "2024-03-07T11:18:56.407372Z"
    }
   },
   "outputs": [],
   "source": [
    "def process_text_column(df, input_column):\n",
    "    \"\"\"\n",
    "    Process a text column in a pandas DataFrame.\n",
    "\n",
    "    Args:\n",
    "    - df: pandas DataFrame\n",
    "    - input_column: str, the name of the column to process\n",
    "\n",
    "    Returns:\n",
    "    - pandas Series, a new column with the required modifications\n",
    "    \"\"\"\n",
    "\n",
    "    def replace_emoji(text):\n",
    "        \"\"\"\n",
    "        Extracts emojis from text using the emot library and replaces them with their descriptions.\n",
    "        \"\"\"\n",
    "        text = emoji.demojize(text)\n",
    "       \n",
    "        return text\n",
    "    \n",
    "    def convert_emoticons(text):\n",
    "        \"\"\"\n",
    "        Extracts emoticons from text using the emot library and replaces them with their descriptions.\n",
    "        \"\"\"\n",
    "        for emoticon in EMOTICONS_EMO:\n",
    "            pattern = re.escape(emoticon)\n",
    "            replacement = \"_\".join(EMOTICONS_EMO[emoticon].replace(\",\", \"\").split())\n",
    "            text = re.sub(f'({pattern})', replacement, text)\n",
    "        return text\n",
    "\n",
    "    def detect_non_english_words(text):\n",
    "        \"\"\"\n",
    "        Detects non-English words in the text using the langid library.\n",
    "        \"\"\"\n",
    "        words = text.split()\n",
    "        for i in range(len(words)):\n",
    "            if langid.classify(words[i])[0] != 'en':\n",
    "                words[i] = '{Non-English}'\n",
    "        return ' '.join(words)\n",
    "\n",
    "    def process_text(text):\n",
    "        \"\"\"\n",
    "        Processes the text by replacing emojis and detecting non-English words.\n",
    "        \"\"\"\n",
    "        text = replace_emoji(text)\n",
    "        text = detect_non_english_words(text)\n",
    "        text = convert_emoticons(text)\n",
    "                \n",
    "        text = text.replace(':',' ')\n",
    "        \n",
    "        return text\n",
    "\n",
    "    # Apply the processing function to the specified column\n",
    "    new_column = df[input_column].apply(process_text)\n",
    "\n",
    "    return new_column"
   ]
  },
  {
   "cell_type": "code",
   "execution_count": 26,
   "metadata": {
    "ExecuteTime": {
     "end_time": "2024-03-07T11:20:12.276658Z",
     "start_time": "2024-03-07T11:20:12.227790Z"
    }
   },
   "outputs": [
    {
     "data": {
      "text/plain": [
       "'Hi there {Non-English}  enraged_face  dotted_line_face  face_with_tears_of_joy  Frown_sad_andry_or_pouting Frown_sad_andry_or_pouting Happy_face_smiley Very_happy >Frown_sad_andry_or_pouting Crying'"
      ]
     },
     "execution_count": 26,
     "metadata": {},
     "output_type": "execute_result"
    }
   ],
   "source": [
    "some_text = \"Hi there Gracias 😡🫥😂 :-( :[ :-) :-)) :( :'( \"\n",
    "df = pd.DataFrame({'text_column': [some_text]})\n",
    "df['processed_text'] = process_text_column(df, 'text_column')\n",
    "df['processed_text'][0]"
   ]
  },
  {
   "cell_type": "code",
   "execution_count": 7,
   "metadata": {
    "ExecuteTime": {
     "end_time": "2024-03-07T11:14:36.927782Z",
     "start_time": "2024-03-07T11:14:36.910827Z"
    }
   },
   "outputs": [
    {
     "data": {
      "text/html": [
       "<div>\n",
       "<style scoped>\n",
       "    .dataframe tbody tr th:only-of-type {\n",
       "        vertical-align: middle;\n",
       "    }\n",
       "\n",
       "    .dataframe tbody tr th {\n",
       "        vertical-align: top;\n",
       "    }\n",
       "\n",
       "    .dataframe thead th {\n",
       "        text-align: right;\n",
       "    }\n",
       "</style>\n",
       "<table border=\"1\" class=\"dataframe\">\n",
       "  <thead>\n",
       "    <tr style=\"text-align: right;\">\n",
       "      <th></th>\n",
       "      <th>text_column</th>\n",
       "      <th>processed_text</th>\n",
       "    </tr>\n",
       "  </thead>\n",
       "  <tbody>\n",
       "    <tr>\n",
       "      <th>0</th>\n",
       "      <td>😡🫥 Hi there Gracias :-( :[ :-) :-))</td>\n",
       "      <td>enraged_face dotted_line_face Hi there {Non-En...</td>\n",
       "    </tr>\n",
       "  </tbody>\n",
       "</table>\n",
       "</div>"
      ],
      "text/plain": [
       "                            text_column  \\\n",
       "0  😡🫥 Hi there Gracias :-( :[ :-) :-))    \n",
       "\n",
       "                                      processed_text  \n",
       "0  enraged_face dotted_line_face Hi there {Non-En...  "
      ]
     },
     "execution_count": 7,
     "metadata": {},
     "output_type": "execute_result"
    }
   ],
   "source": [
    "df"
   ]
  },
  {
   "cell_type": "code",
   "execution_count": null,
   "metadata": {},
   "outputs": [],
   "source": []
  },
  {
   "cell_type": "code",
   "execution_count": null,
   "metadata": {},
   "outputs": [],
   "source": []
  }
 ],
 "metadata": {
  "kernelspec": {
   "display_name": "Python 3 (ipykernel)",
   "language": "python",
   "name": "python3"
  },
  "language_info": {
   "codemirror_mode": {
    "name": "ipython",
    "version": 3
   },
   "file_extension": ".py",
   "mimetype": "text/x-python",
   "name": "python",
   "nbconvert_exporter": "python",
   "pygments_lexer": "ipython3",
   "version": "3.9.18"
  }
 },
 "nbformat": 4,
 "nbformat_minor": 2
}
